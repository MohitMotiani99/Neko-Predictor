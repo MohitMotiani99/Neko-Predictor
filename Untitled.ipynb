{
 "cells": [
  {
   "cell_type": "code",
   "execution_count": 1,
   "metadata": {},
   "outputs": [
    {
     "name": "stdout",
     "output_type": "stream",
     "text": [
      "Collecting h5py\n",
      "  Downloading h5py-2.10.0-cp37-cp37m-win32.whl (2.1 MB)\n",
      "Requirement already satisfied: numpy>=1.7 in c:\\users\\support\\appdata\\local\\programs\\python\\python37-32\\lib\\site-packages (from h5py) (1.17.3)\n",
      "Requirement already satisfied: six in c:\\users\\support\\appdata\\local\\programs\\python\\python37-32\\lib\\site-packages (from h5py) (1.12.0)\n",
      "Installing collected packages: h5py\n",
      "Successfully installed h5py-2.10.0\n",
      "Note: you may need to restart the kernel to use updated packages.\n"
     ]
    },
    {
     "name": "stderr",
     "output_type": "stream",
     "text": [
      "WARNING: You are using pip version 20.1.1; however, version 20.2.3 is available.\n",
      "You should consider upgrading via the 'c:\\users\\support\\appdata\\local\\programs\\python\\python37-32\\python.exe -m pip install --upgrade pip' command.\n"
     ]
    }
   ],
   "source": [
    "pip install h5py"
   ]
  },
  {
   "cell_type": "code",
   "execution_count": 6,
   "metadata": {},
   "outputs": [],
   "source": [
    "import numpy as np\n",
    "import matplotlib.pyplot as plt\n",
    "import h5py\n",
    "import scipy\n",
    "from PIL import Image\n",
    "from scipy import ndimage\n",
    "from lr_utils import load_dataset\n",
    "\n",
    "%matplotlib inline"
   ]
  },
  {
   "cell_type": "code",
   "execution_count": 3,
   "metadata": {},
   "outputs": [
    {
     "name": "stdout",
     "output_type": "stream",
     "text": [
      "Requirement already satisfied: pillow in c:\\users\\support\\appdata\\local\\programs\\python\\python37-32\\lib\\site-packages (7.2.0)\n",
      "Note: you may need to restart the kernel to use updated packages.\n"
     ]
    },
    {
     "name": "stderr",
     "output_type": "stream",
     "text": [
      "WARNING: You are using pip version 20.1.1; however, version 20.2.3 is available.\n",
      "You should consider upgrading via the 'c:\\users\\support\\appdata\\local\\programs\\python\\python37-32\\python.exe -m pip install --upgrade pip' command.\n"
     ]
    }
   ],
   "source": [
    "pip install pillow"
   ]
  },
  {
   "cell_type": "code",
   "execution_count": 4,
   "metadata": {},
   "outputs": [
    {
     "ename": "SyntaxError",
     "evalue": "unexpected character after line continuation character (<ipython-input-4-6c332c8ffd21>, line 1)",
     "output_type": "error",
     "traceback": [
      "\u001b[1;36m  File \u001b[1;32m\"<ipython-input-4-6c332c8ffd21>\"\u001b[1;36m, line \u001b[1;32m1\u001b[0m\n\u001b[1;33m    c:\\users\\support\\appdata\\local\\programs\\python\\python37-32\\python.exe -m pip install --upgrade pip\u001b[0m\n\u001b[1;37m                                                                                                      ^\u001b[0m\n\u001b[1;31mSyntaxError\u001b[0m\u001b[1;31m:\u001b[0m unexpected character after line continuation character\n"
     ]
    }
   ],
   "source": [
    "c:\\users\\support\\appdata\\local\\programs\\python\\python37-32\\python.exe -m pip install --upgrade pip"
   ]
  },
  {
   "cell_type": "code",
   "execution_count": 5,
   "metadata": {},
   "outputs": [
    {
     "ename": "SyntaxError",
     "evalue": "unexpected character after line continuation character (<ipython-input-5-519190d4ebda>, line 1)",
     "output_type": "error",
     "traceback": [
      "\u001b[1;36m  File \u001b[1;32m\"<ipython-input-5-519190d4ebda>\"\u001b[1;36m, line \u001b[1;32m1\u001b[0m\n\u001b[1;33m    C:\\users\\support\\appdata\\local\\programs\\python\\python37-32\\python.exe -m pip install --upgrade pip\u001b[0m\n\u001b[1;37m                                                                                                      ^\u001b[0m\n\u001b[1;31mSyntaxError\u001b[0m\u001b[1;31m:\u001b[0m unexpected character after line continuation character\n"
     ]
    }
   ],
   "source": [
    "C:\\users\\support\\appdata\\local\\programs\\python\\python37-32\\python.exe -m pip install --upgrade pip"
   ]
  },
  {
   "cell_type": "code",
   "execution_count": 7,
   "metadata": {},
   "outputs": [],
   "source": [
    "xtrain,ytrain,xtest,ytest,classes=load_dataset()"
   ]
  },
  {
   "cell_type": "code",
   "execution_count": 8,
   "metadata": {},
   "outputs": [
    {
     "name": "stdout",
     "output_type": "stream",
     "text": [
      "[[[[ 17  31  56]\n",
      "   [ 22  33  59]\n",
      "   [ 25  35  62]\n",
      "   ...\n",
      "   [  1  28  57]\n",
      "   [  1  26  56]\n",
      "   [  1  22  51]]\n",
      "\n",
      "  [[ 25  36  62]\n",
      "   [ 28  38  64]\n",
      "   [ 30  40  67]\n",
      "   ...\n",
      "   [  1  27  56]\n",
      "   [  1  25  55]\n",
      "   [  2  21  51]]\n",
      "\n",
      "  [[ 32  40  67]\n",
      "   [ 34  42  69]\n",
      "   [ 35  42  70]\n",
      "   ...\n",
      "   [  1  25  55]\n",
      "   [  0  24  54]\n",
      "   [  1  21  51]]\n",
      "\n",
      "  ...\n",
      "\n",
      "  [[  0   0   0]\n",
      "   [  0   0   0]\n",
      "   [  0   0   0]\n",
      "   ...\n",
      "   [  0   0   0]\n",
      "   [  0   0   0]\n",
      "   [  0   0   0]]\n",
      "\n",
      "  [[  0   0   0]\n",
      "   [  0   0   0]\n",
      "   [  0   0   0]\n",
      "   ...\n",
      "   [  0   0   0]\n",
      "   [  0   0   0]\n",
      "   [  0   0   0]]\n",
      "\n",
      "  [[  0   0   0]\n",
      "   [  0   0   0]\n",
      "   [  0   0   0]\n",
      "   ...\n",
      "   [  0   0   0]\n",
      "   [  0   0   0]\n",
      "   [  0   0   0]]]\n",
      "\n",
      "\n",
      " [[[196 192 190]\n",
      "   [193 186 182]\n",
      "   [188 179 174]\n",
      "   ...\n",
      "   [ 90 142 200]\n",
      "   [ 90 142 201]\n",
      "   [ 90 142 201]]\n",
      "\n",
      "  [[230 229 229]\n",
      "   [204 199 197]\n",
      "   [193 186 181]\n",
      "   ...\n",
      "   [ 91 143 201]\n",
      "   [ 91 143 201]\n",
      "   [ 91 143 201]]\n",
      "\n",
      "  [[232 225 224]\n",
      "   [235 234 234]\n",
      "   [208 205 202]\n",
      "   ...\n",
      "   [ 91 144 202]\n",
      "   [ 91 144 202]\n",
      "   [ 92 144 202]]\n",
      "\n",
      "  ...\n",
      "\n",
      "  [[ 18  17  15]\n",
      "   [ 14  14  13]\n",
      "   [ 29  29  32]\n",
      "   ...\n",
      "   [ 83  81  81]\n",
      "   [ 84  82  83]\n",
      "   [ 82  81  82]]\n",
      "\n",
      "  [[ 22  20  18]\n",
      "   [ 16  15  14]\n",
      "   [ 25  24  24]\n",
      "   ...\n",
      "   [ 82  80  80]\n",
      "   [ 83  81  82]\n",
      "   [ 82  81  81]]\n",
      "\n",
      "  [[ 45  43  39]\n",
      "   [ 61  59  54]\n",
      "   [ 81  78  74]\n",
      "   ...\n",
      "   [ 83  82  81]\n",
      "   [ 84  82  82]\n",
      "   [ 82  80  81]]]\n",
      "\n",
      "\n",
      " [[[ 82  71  68]\n",
      "   [ 89  83  83]\n",
      "   [100  98 104]\n",
      "   ...\n",
      "   [131 132 137]\n",
      "   [126 124 124]\n",
      "   [105  97  95]]\n",
      "\n",
      "  [[ 95  91  97]\n",
      "   [104 104 113]\n",
      "   [110 115 126]\n",
      "   ...\n",
      "   [135 134 135]\n",
      "   [127 122 119]\n",
      "   [111 105 103]]\n",
      "\n",
      "  [[ 94  85  83]\n",
      "   [ 97  89  90]\n",
      "   [110 109 115]\n",
      "   ...\n",
      "   [136 134 131]\n",
      "   [127 120 117]\n",
      "   [116 108 104]]\n",
      "\n",
      "  ...\n",
      "\n",
      "  [[ 96 116 131]\n",
      "   [ 97 115 130]\n",
      "   [103 123 139]\n",
      "   ...\n",
      "   [152 155 157]\n",
      "   [146 149 152]\n",
      "   [130 133 134]]\n",
      "\n",
      "  [[ 90 108 123]\n",
      "   [ 92 108 121]\n",
      "   [100 119 134]\n",
      "   ...\n",
      "   [150 152 155]\n",
      "   [144 146 147]\n",
      "   [134 135 134]]\n",
      "\n",
      "  [[ 86 102 116]\n",
      "   [ 87 103 115]\n",
      "   [ 94 114 127]\n",
      "   ...\n",
      "   [154 156 160]\n",
      "   [146 148 152]\n",
      "   [138 141 142]]]\n",
      "\n",
      "\n",
      " ...\n",
      "\n",
      "\n",
      " [[[143 155 165]\n",
      "   [184 190 198]\n",
      "   [142 149 155]\n",
      "   ...\n",
      "   [ 99  92 102]\n",
      "   [120  98 102]\n",
      "   [100  84  95]]\n",
      "\n",
      "  [[151 149 139]\n",
      "   [173 179 185]\n",
      "   [105 135 141]\n",
      "   ...\n",
      "   [ 91  87  99]\n",
      "   [119  99 104]\n",
      "   [120  95 101]]\n",
      "\n",
      "  [[204 190 185]\n",
      "   [180 185 195]\n",
      "   [117 155 177]\n",
      "   ...\n",
      "   [ 96  88 101]\n",
      "   [125 103 110]\n",
      "   [120 100 110]]\n",
      "\n",
      "  ...\n",
      "\n",
      "  [[ 41  80 116]\n",
      "   [ 41  80 116]\n",
      "   [ 41  78 115]\n",
      "   ...\n",
      "   [ 63  75  98]\n",
      "   [ 60  72  98]\n",
      "   [ 60  70  96]]\n",
      "\n",
      "  [[ 71  90 121]\n",
      "   [ 73  91 123]\n",
      "   [ 74  91 124]\n",
      "   ...\n",
      "   [ 79 101 142]\n",
      "   [ 80 100 140]\n",
      "   [ 82 101 139]]\n",
      "\n",
      "  [[ 71  88 122]\n",
      "   [ 73  92 128]\n",
      "   [ 76  95 131]\n",
      "   ...\n",
      "   [ 81 106 150]\n",
      "   [ 85 108 151]\n",
      "   [ 85 107 149]]]\n",
      "\n",
      "\n",
      " [[[ 22  24  23]\n",
      "   [ 23  25  24]\n",
      "   [ 24  26  25]\n",
      "   ...\n",
      "   [ 24  29  25]\n",
      "   [ 23  25  22]\n",
      "   [ 20  22  21]]\n",
      "\n",
      "  [[ 22  24  23]\n",
      "   [ 23  25  24]\n",
      "   [ 23  26  25]\n",
      "   ...\n",
      "   [ 22  28  23]\n",
      "   [ 20  23  22]\n",
      "   [ 19  21  21]]\n",
      "\n",
      "  [[ 22  24  22]\n",
      "   [ 23  25  24]\n",
      "   [ 23  26  25]\n",
      "   ...\n",
      "   [ 23  27  23]\n",
      "   [ 20  23  21]\n",
      "   [ 18  20  19]]\n",
      "\n",
      "  ...\n",
      "\n",
      "  [[  8   5   0]\n",
      "   [  9   6   1]\n",
      "   [  9   6   1]\n",
      "   ...\n",
      "   [  4   5   0]\n",
      "   [  5   4   0]\n",
      "   [  4   5   0]]\n",
      "\n",
      "  [[  7   5   0]\n",
      "   [  8   5   1]\n",
      "   [  9   6   1]\n",
      "   ...\n",
      "   [  4   5   0]\n",
      "   [  4   5   0]\n",
      "   [  4   5   0]]\n",
      "\n",
      "  [[  7   5   0]\n",
      "   [  8   5   0]\n",
      "   [  9   6   1]\n",
      "   ...\n",
      "   [  4   5   0]\n",
      "   [  4   5   0]\n",
      "   [  4   5   0]]]\n",
      "\n",
      "\n",
      " [[[  8  28  53]\n",
      "   [ 14  33  58]\n",
      "   [ 19  35  61]\n",
      "   ...\n",
      "   [ 11  16  35]\n",
      "   [ 10  16  35]\n",
      "   [  9  14  32]]\n",
      "\n",
      "  [[ 15  31  57]\n",
      "   [ 15  32  58]\n",
      "   [ 18  34  60]\n",
      "   ...\n",
      "   [ 13  17  35]\n",
      "   [ 13  17  35]\n",
      "   [ 13  16  35]]\n",
      "\n",
      "  [[ 20  35  61]\n",
      "   [ 19  33  59]\n",
      "   [ 20  33  59]\n",
      "   ...\n",
      "   [ 16  17  35]\n",
      "   [ 16  18  35]\n",
      "   [ 15  17  35]]\n",
      "\n",
      "  ...\n",
      "\n",
      "  [[  0   0   0]\n",
      "   [  0   0   0]\n",
      "   [  0   0   0]\n",
      "   ...\n",
      "   [  0   0   0]\n",
      "   [  0   0   0]\n",
      "   [  0   0   0]]\n",
      "\n",
      "  [[  0   0   0]\n",
      "   [  0   0   0]\n",
      "   [  0   0   0]\n",
      "   ...\n",
      "   [  0   0   0]\n",
      "   [  0   0   0]\n",
      "   [  0   0   0]]\n",
      "\n",
      "  [[  0   0   0]\n",
      "   [  0   0   0]\n",
      "   [  0   0   0]\n",
      "   ...\n",
      "   [  0   0   0]\n",
      "   [  0   0   0]\n",
      "   [  0   0   0]]]]\n",
      "(209, 64, 64, 3)\n"
     ]
    }
   ],
   "source": [
    "print(xtrain)\n",
    "print(xtrain.shape)"
   ]
  },
  {
   "cell_type": "code",
   "execution_count": 9,
   "metadata": {},
   "outputs": [
    {
     "name": "stdout",
     "output_type": "stream",
     "text": [
      "209\n",
      "50\n",
      "64\n"
     ]
    }
   ],
   "source": [
    "mtrain=xtrain.shape[0]\n",
    "mtest=xtest.shape[0]\n",
    "numpx=xtrain.shape[1]\n",
    "\n",
    "print(mtrain)\n",
    "print(mtest)\n",
    "print(numpx)"
   ]
  },
  {
   "cell_type": "code",
   "execution_count": 11,
   "metadata": {},
   "outputs": [
    {
     "name": "stdout",
     "output_type": "stream",
     "text": [
      "[[17 31 56 ... 68 33 41]\n",
      " [71 34 44 ... 47 77 40]\n",
      " [49 79 40 ... 38 46 75]\n",
      " ...\n",
      " [ 0  0  0 ...  0  0  0]\n",
      " [ 0  0  0 ...  0  0  0]\n",
      " [ 0  0  0 ...  0  0  0]]\n"
     ]
    }
   ],
   "source": [
    "xtrain=xtrain.reshape(numpx*numpx*3,mtrain)\n",
    "print(xtrain)"
   ]
  },
  {
   "cell_type": "code",
   "execution_count": 12,
   "metadata": {},
   "outputs": [
    {
     "name": "stdout",
     "output_type": "stream",
     "text": [
      "[[158 104  83 ...  93 164 112]\n",
      " [ 90 165 111 ... 116  93 167]\n",
      " [115  94 171 ... 177 128 107]\n",
      " ...\n",
      " [ 92 142  87 ...  48  43  87]\n",
      " [ 31  49  89 ...  70  27  34]\n",
      " [ 76  39  37 ...   5  22   5]]\n"
     ]
    }
   ],
   "source": [
    "xtest=xtest.reshape(numpx*numpx*3,mtest)\n",
    "print(xtest)"
   ]
  },
  {
   "cell_type": "code",
   "execution_count": 13,
   "metadata": {},
   "outputs": [
    {
     "name": "stdout",
     "output_type": "stream",
     "text": [
      "[[0.06666667 0.12156863 0.21960784 ... 0.26666667 0.12941176 0.16078431]\n",
      " [0.27843137 0.13333333 0.17254902 ... 0.18431373 0.30196078 0.15686275]\n",
      " [0.19215686 0.30980392 0.15686275 ... 0.14901961 0.18039216 0.29411765]\n",
      " ...\n",
      " [0.         0.         0.         ... 0.         0.         0.        ]\n",
      " [0.         0.         0.         ... 0.         0.         0.        ]\n",
      " [0.         0.         0.         ... 0.         0.         0.        ]]\n",
      "[[0.61960784 0.40784314 0.3254902  ... 0.36470588 0.64313725 0.43921569]\n",
      " [0.35294118 0.64705882 0.43529412 ... 0.45490196 0.36470588 0.65490196]\n",
      " [0.45098039 0.36862745 0.67058824 ... 0.69411765 0.50196078 0.41960784]\n",
      " ...\n",
      " [0.36078431 0.55686275 0.34117647 ... 0.18823529 0.16862745 0.34117647]\n",
      " [0.12156863 0.19215686 0.34901961 ... 0.2745098  0.10588235 0.13333333]\n",
      " [0.29803922 0.15294118 0.14509804 ... 0.01960784 0.08627451 0.01960784]]\n"
     ]
    }
   ],
   "source": [
    "xtrain=xtrain/255\n",
    "xtest=xtest/255\n",
    "print(xtrain)\n",
    "print(xtest)"
   ]
  },
  {
   "cell_type": "code",
   "execution_count": 14,
   "metadata": {},
   "outputs": [],
   "source": [
    "def sigmoid(z):\n",
    "    return 1/(1+np.exp(-1*z))"
   ]
  },
  {
   "cell_type": "code",
   "execution_count": 15,
   "metadata": {},
   "outputs": [
    {
     "data": {
      "text/plain": [
       "array([0.73105858, 0.88079708, 0.95257413])"
      ]
     },
     "execution_count": 15,
     "metadata": {},
     "output_type": "execute_result"
    }
   ],
   "source": [
    "sigmoid(np.array([1,2,3]))"
   ]
  },
  {
   "cell_type": "code",
   "execution_count": 16,
   "metadata": {},
   "outputs": [],
   "source": [
    "def initialize_with_zeros(dim):\n",
    "    w=np.zeros((dim,1))\n",
    "    b=0\n",
    "    return w,b"
   ]
  },
  {
   "cell_type": "code",
   "execution_count": 17,
   "metadata": {},
   "outputs": [
    {
     "data": {
      "text/plain": [
       "(array([[0.],\n",
       "        [0.],\n",
       "        [0.],\n",
       "        [0.]]), 0)"
      ]
     },
     "execution_count": 17,
     "metadata": {},
     "output_type": "execute_result"
    }
   ],
   "source": [
    "initialize_with_zeros(4)"
   ]
  },
  {
   "cell_type": "code",
   "execution_count": 29,
   "metadata": {},
   "outputs": [],
   "source": [
    "def propagate(w,b,x,y):\n",
    "    m=xtrain.shape[0]\n",
    "    A=sigmoid(np.dot(w.T,x)+b)\n",
    "    dw=np.dot(x,(A-y).T)/m\n",
    "    db=np.sum(A-y)/m\n",
    "    cost=-1*(np.dot(y,np.log(A).T)+np.dot(1-y,np.log(1-A).T))/m\n",
    "    grads={\n",
    "        \"dw\":dw,\n",
    "        \"db\":db\n",
    "    }\n",
    "    return grads,cost"
   ]
  },
  {
   "cell_type": "code",
   "execution_count": 43,
   "metadata": {},
   "outputs": [],
   "source": [
    "def optimize(w,b,x,y,alpha,iter,printB=False):\n",
    "    costs=[]\n",
    "    for i in range(iter):\n",
    "        grads,cost=propagate(w,b,x,y)\n",
    "        dw=grads[\"dw\"]\n",
    "        db=grads[\"db\"]\n",
    "        w=w-alpha*dw\n",
    "        b=b-alpha*db\n",
    "        if i%100==0 :\n",
    "            costs.append(cost)\n",
    "        if printB==True and i%100==0:\n",
    "            print(\"Cost after Iterartion %i:%f\" %(i,cost))\n",
    "            \n",
    "    params={\"w\":w,\n",
    "             \"b\":b}\n",
    "    grads={\n",
    "        \"dw\":dw,\n",
    "        \"db\":db\n",
    "    }\n",
    "    \n",
    "    return params,grads,costs"
   ]
  },
  {
   "cell_type": "code",
   "execution_count": 47,
   "metadata": {},
   "outputs": [],
   "source": [
    "def predict(w,b,x):\n",
    "    m=x.shape[1]\n",
    "    ypred=np.zeros((1,m))\n",
    "    w=w.reshape(x.shape[0],1)\n",
    "    A=sigmoid(np.dot(w.T,x)+b)\n",
    "    print(A)\n",
    "    for i in range(A.shape[1]):\n",
    "        if A[0][i]<=0.5:\n",
    "            ypred[0][i]=0\n",
    "        else:\n",
    "            ypred[0][i]=1\n",
    "    return ypred"
   ]
  },
  {
   "cell_type": "code",
   "execution_count": 55,
   "metadata": {},
   "outputs": [],
   "source": [
    "def model(xtrain,ytrain,xtest,ytest,iter=2000,alpha=0.5,printB=False):\n",
    "    w,b=initialize_with_zeros(xtrain.shape[0])\n",
    "    params,grades,costs=optimize(w,b,xtrain,ytrain,alpha,iter,printB)\n",
    "    w=params[\"w\"]\n",
    "    b=params[\"b\"]\n",
    "    yptest=predict(w,b,xtest)\n",
    "    yptrain=predict(w,b,xtrain)\n",
    "    \n",
    "    print(100-np.mean(np.abs(ytest-yptest))*100)\n",
    "    print(100-np.mean(np.abs(ytrain-yptrain))*100)\n",
    "    \n",
    "    "
   ]
  },
  {
   "cell_type": "code",
   "execution_count": 56,
   "metadata": {},
   "outputs": [
    {
     "name": "stdout",
     "output_type": "stream",
     "text": [
      "Cost after Iterartion 0:0.011789\n",
      "Cost after Iterartion 100:0.010840\n",
      "Cost after Iterartion 200:0.010749\n",
      "Cost after Iterartion 300:0.010673\n",
      "Cost after Iterartion 400:0.010610\n",
      "Cost after Iterartion 500:0.010555\n",
      "Cost after Iterartion 600:0.010507\n",
      "Cost after Iterartion 700:0.010464\n",
      "Cost after Iterartion 800:0.010425\n",
      "Cost after Iterartion 900:0.010390\n",
      "Cost after Iterartion 1000:0.010357\n",
      "Cost after Iterartion 1100:0.010326\n",
      "Cost after Iterartion 1200:0.010297\n",
      "Cost after Iterartion 1300:0.010270\n",
      "Cost after Iterartion 1400:0.010244\n",
      "Cost after Iterartion 1500:0.010219\n",
      "Cost after Iterartion 1600:0.010194\n",
      "Cost after Iterartion 1700:0.010171\n",
      "Cost after Iterartion 1800:0.010148\n",
      "Cost after Iterartion 1900:0.010127\n",
      "[[0.35048369 0.35172047 0.3716261  0.35568827 0.35688159 0.37615983\n",
      "  0.35814596 0.3583931  0.37691561 0.35798675 0.35899117 0.37613258\n",
      "  0.35628809 0.35813765 0.37481536 0.35491285 0.35364788 0.36935738\n",
      "  0.35208981 0.35263605 0.3674874  0.35024752 0.35314181 0.36822898\n",
      "  0.34981378 0.35264321 0.36969289 0.35270847 0.35451705 0.3729181\n",
      "  0.35443695 0.35850595 0.37563542 0.35515947 0.35849524 0.37749373\n",
      "  0.35681462 0.35793182 0.37899052 0.35944101 0.35961692 0.38107851\n",
      "  0.3615215  0.3620237  0.38155946 0.36048473 0.36118767 0.37777745\n",
      "  0.35799876 0.35851692]]\n",
      "[[0.2353903  0.20735663 0.33251716 0.22479521 0.20123383 0.32718707\n",
      "  0.21816083 0.20291796 0.3271831  0.21660683 0.20407525 0.32867116\n",
      "  0.21698901 0.20467075 0.32881893 0.22180973 0.20633336 0.327492\n",
      "  0.22985132 0.21389512 0.33716774 0.243537   0.2231494  0.35246946\n",
      "  0.26421184 0.2329356  0.36234073 0.26965823 0.22728046 0.3579426\n",
      "  0.25660241 0.21345694 0.34395597 0.24551298 0.20654296 0.3463083\n",
      "  0.25069873 0.21346336 0.36822595 0.27030493 0.22563023 0.38532656\n",
      "  0.28641722 0.23198382 0.38997178 0.28904954 0.2386708  0.40485079\n",
      "  0.30276557 0.24963563 0.41727367 0.31934856 0.26246745 0.42951242\n",
      "  0.34163903 0.278035   0.44556347 0.35486028 0.28618581 0.43951438\n",
      "  0.34190973 0.27614664 0.40339403 0.30385013 0.24551316 0.36874136\n",
      "  0.27522713 0.22660519 0.34911427 0.25820159 0.21512501 0.33035454\n",
      "  0.24447996 0.2037249  0.30893183 0.23579143 0.20162526 0.30218236\n",
      "  0.2390762  0.21323111 0.31798695 0.26151185 0.23782063 0.3455667\n",
      "  0.29449698 0.26466954 0.36410896 0.31513297 0.29507364 0.38826453\n",
      "  0.34063855 0.32297125 0.4164756  0.37365148 0.3482286  0.42546249\n",
      "  0.38448356 0.35884189 0.43113964 0.39215508 0.36741933 0.45302777\n",
      "  0.42072794 0.40045431 0.48919988 0.45223599 0.43261232 0.51317928\n",
      "  0.47197934 0.43606761 0.50306519 0.45473182 0.40510437 0.46606939\n",
      "  0.42365154 0.380203   0.43880564 0.41430302 0.38026823 0.43587221\n",
      "  0.41611988 0.39419096 0.44937688 0.43281564 0.41616657 0.47383946\n",
      "  0.45787975 0.43417984 0.49783625 0.47339519 0.44831578 0.51298801\n",
      "  0.48239749 0.47096237 0.53306515 0.49314188 0.47661817 0.52983315\n",
      "  0.47991857 0.45796081 0.51497368 0.47165227 0.45836339 0.51811543\n",
      "  0.47132897 0.45334309 0.51587957 0.45633622 0.42697132 0.49068444\n",
      "  0.43031427 0.38931104 0.45433564 0.40929314 0.35906215 0.43059652\n",
      "  0.39214268 0.34336458 0.41979522 0.37894408 0.33962599 0.42724403\n",
      "  0.38729732 0.3517249  0.44723011 0.39915477 0.36824718 0.46129315\n",
      "  0.40596264 0.37522937 0.47101316 0.40960287 0.3653575  0.46390827\n",
      "  0.39509197 0.34622701 0.44644074 0.36359236 0.31117594 0.41846004\n",
      "  0.32501631 0.27626306 0.38788862 0.29123132 0.25285979 0.37318691\n",
      "  0.26696713 0.23361166 0.35778815 0.24864625 0.21582586 0.33813411\n",
      "  0.23577847 0.202531   0.32469625 0.22214851 0.19625498 0.32135447\n",
      "  0.21517595 0.19551231 0.31769913 0.21026095 0.19257284 0.31230706\n",
      "  0.20750133 0.19221762 0.31159817 0.21199385 0.19498692]]\n",
      "34.0\n",
      "66.50717703349282\n"
     ]
    }
   ],
   "source": [
    "model(xtrain,ytrain,xtest,ytest,iter=2000,alpha=0.005,printB=True)"
   ]
  },
  {
   "cell_type": "code",
   "execution_count": null,
   "metadata": {},
   "outputs": [],
   "source": []
  }
 ],
 "metadata": {
  "kernelspec": {
   "display_name": "Python 3",
   "language": "python",
   "name": "python3"
  },
  "language_info": {
   "codemirror_mode": {
    "name": "ipython",
    "version": 3
   },
   "file_extension": ".py",
   "mimetype": "text/x-python",
   "name": "python",
   "nbconvert_exporter": "python",
   "pygments_lexer": "ipython3",
   "version": "3.7.4"
  }
 },
 "nbformat": 4,
 "nbformat_minor": 2
}
